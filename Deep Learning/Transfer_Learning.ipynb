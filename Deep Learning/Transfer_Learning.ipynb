{
  "nbformat": 4,
  "nbformat_minor": 0,
  "metadata": {
    "colab": {
      "name": "Transfer Learning",
      "provenance": [],
      "collapsed_sections": []
    },
    "kernelspec": {
      "name": "python3",
      "display_name": "Python 3"
    },
    "accelerator": "GPU"
  },
  "cells": [
    {
      "cell_type": "code",
      "metadata": {
        "id": "wAAGOnxmuDeR",
        "colab_type": "code",
        "colab": {
          "base_uri": "https://localhost:8080/",
          "height": 34
        },
        "outputId": "44fa5f6f-1275-4975-91ae-4aac11ef1063"
      },
      "source": [
        "%tensorflow_version 2.x\n",
        "import tensorflow as tf\n",
        "device_name = tf.test.gpu_device_name()\n",
        "if device_name != '/device:GPU:0':\n",
        "  raise SystemError('GPU device not found')\n",
        "print('Found GPU at: {}'.format(device_name))"
      ],
      "execution_count": 1,
      "outputs": [
        {
          "output_type": "stream",
          "text": [
            "Found GPU at: /device:GPU:0\n"
          ],
          "name": "stdout"
        }
      ]
    },
    {
      "cell_type": "code",
      "metadata": {
        "id": "FsB_js311Cu_",
        "colab_type": "code",
        "colab": {}
      },
      "source": [
        "from google.colab import drive\n",
        "drive.mount('/content/drive')"
      ],
      "execution_count": null,
      "outputs": []
    },
    {
      "cell_type": "markdown",
      "metadata": {
        "id": "PA6XIYB03ibL",
        "colab_type": "text"
      },
      "source": [
        "##Initializing path for train and validation data"
      ]
    },
    {
      "cell_type": "code",
      "metadata": {
        "id": "VFjaK6SsemtH",
        "colab_type": "code",
        "colab": {}
      },
      "source": [
        "train_ges = '/content/drive/My Drive/soc_ges/train_ges'\n",
        "val_ges = '/content/drive/My Drive/soc_ges/val_ges'"
      ],
      "execution_count": 2,
      "outputs": []
    },
    {
      "cell_type": "markdown",
      "metadata": {
        "id": "bpX9Qbi13pu4",
        "colab_type": "text"
      },
      "source": [
        "##Instantiating the VGG16 convolutional base"
      ]
    },
    {
      "cell_type": "code",
      "metadata": {
        "id": "9kHWAWgH1FOG",
        "colab_type": "code",
        "colab": {
          "base_uri": "https://localhost:8080/",
          "height": 34
        },
        "outputId": "7c094389-0b1c-4caf-ac91-5f964999255f"
      },
      "source": [
        "from keras.applications import VGG16\n",
        "conv_base = VGG16(weights='imagenet',\n",
        "include_top=False,\n",
        "input_shape=(150, 150, 3))"
      ],
      "execution_count": 3,
      "outputs": [
        {
          "output_type": "stream",
          "text": [
            "Using TensorFlow backend.\n"
          ],
          "name": "stderr"
        }
      ]
    },
    {
      "cell_type": "markdown",
      "metadata": {
        "id": "w2VrTcJB34Az",
        "colab_type": "text"
      },
      "source": [
        "##Adding a densely connected classifier on top of the convolutional base"
      ]
    },
    {
      "cell_type": "code",
      "metadata": {
        "id": "8ez9jcQ912T2",
        "colab_type": "code",
        "colab": {}
      },
      "source": [
        "from keras import models\n",
        "from keras import layers\n",
        "model = models.Sequential()\n",
        "model.add(conv_base)\n",
        "model.add(layers.Flatten())\n",
        "model.add(layers.Dense(256, activation='relu'))\n",
        "model.add(layers.Dense(4, activation='softmax'))"
      ],
      "execution_count": 4,
      "outputs": []
    },
    {
      "cell_type": "markdown",
      "metadata": {
        "id": "ZZdPWrWD4QNu",
        "colab_type": "text"
      },
      "source": [
        "###Setting conv_base parameters as non-trainable parameters"
      ]
    },
    {
      "cell_type": "code",
      "metadata": {
        "id": "NA7phCnE2Fp5",
        "colab_type": "code",
        "colab": {}
      },
      "source": [
        "model.layers[0].trainable = False"
      ],
      "execution_count": 5,
      "outputs": []
    },
    {
      "cell_type": "code",
      "metadata": {
        "id": "X7KOSriyuL3n",
        "colab_type": "code",
        "colab": {
          "base_uri": "https://localhost:8080/",
          "height": 289
        },
        "outputId": "0bf74563-d018-44b5-8de8-0705d7dec807"
      },
      "source": [
        "input_shape = (150,150,3)\n",
        "model.build(input_shape)\n",
        "model.summary()"
      ],
      "execution_count": 6,
      "outputs": [
        {
          "output_type": "stream",
          "text": [
            "Model: \"sequential_1\"\n",
            "_________________________________________________________________\n",
            "Layer (type)                 Output Shape              Param #   \n",
            "=================================================================\n",
            "vgg16 (Model)                (None, 4, 4, 512)         14714688  \n",
            "_________________________________________________________________\n",
            "flatten_1 (Flatten)          (None, 8192)              0         \n",
            "_________________________________________________________________\n",
            "dense_1 (Dense)              (None, 256)               2097408   \n",
            "_________________________________________________________________\n",
            "dense_2 (Dense)              (None, 4)                 1028      \n",
            "=================================================================\n",
            "Total params: 16,813,124\n",
            "Trainable params: 2,098,436\n",
            "Non-trainable params: 14,714,688\n",
            "_________________________________________________________________\n"
          ],
          "name": "stdout"
        }
      ]
    },
    {
      "cell_type": "markdown",
      "metadata": {
        "id": "dx4wlSaE4g3S",
        "colab_type": "text"
      },
      "source": [
        "##Training the model along with data augumentation"
      ]
    },
    {
      "cell_type": "code",
      "metadata": {
        "id": "4I61EY472IJW",
        "colab_type": "code",
        "colab": {
          "base_uri": "https://localhost:8080/",
          "height": 731
        },
        "outputId": "41704f8f-91a4-47d1-f4a4-76515a78d755"
      },
      "source": [
        "from keras.preprocessing.image import ImageDataGenerator\n",
        "from keras import optimizers\n",
        "train_datagen = ImageDataGenerator(\n",
        "rescale=1./255,\n",
        "rotation_range=40,\n",
        "width_shift_range=0.2,\n",
        "height_shift_range=0.2,\n",
        "shear_range=0.2,\n",
        "zoom_range=0.2,\n",
        "horizontal_flip=True,\n",
        "fill_mode='nearest')\n",
        "\n",
        "test_datagen = ImageDataGenerator(rescale=1./255)\n",
        "\n",
        "train_generator = train_datagen.flow_from_directory(\n",
        "train_ges,\n",
        "target_size=(150, 150),\n",
        "batch_size=10,\n",
        "class_mode='categorical')\n",
        "\n",
        "validation_generator = test_datagen.flow_from_directory(\n",
        "val_ges,\n",
        "target_size=(150, 150),\n",
        "batch_size=10,\n",
        "class_mode='categorical')\n",
        "\n",
        "model.compile(loss='categorical_crossentropy',\n",
        "optimizer=optimizers.RMSprop(lr=0.00001),\n",
        "metrics=['acc'])\n",
        "\n",
        "history = model.fit_generator(\n",
        "train_generator,\n",
        "steps_per_epoch=100,\n",
        "epochs=20,\n",
        "validation_data=validation_generator,\n",
        "validation_steps=50)"
      ],
      "execution_count": 7,
      "outputs": [
        {
          "output_type": "stream",
          "text": [
            "Found 800 images belonging to 4 classes.\n",
            "Found 200 images belonging to 4 classes.\n",
            "Epoch 1/20\n",
            "100/100 [==============================] - 14s 137ms/step - loss: 1.0339 - acc: 0.7860 - val_loss: 0.9040 - val_acc: 0.8320\n",
            "Epoch 2/20\n",
            "100/100 [==============================] - 10s 102ms/step - loss: 0.5635 - acc: 0.9940 - val_loss: 0.6358 - val_acc: 0.9540\n",
            "Epoch 3/20\n",
            "100/100 [==============================] - 10s 99ms/step - loss: 0.2951 - acc: 0.9960 - val_loss: 0.2554 - val_acc: 0.9620\n",
            "Epoch 4/20\n",
            "100/100 [==============================] - 10s 101ms/step - loss: 0.1625 - acc: 0.9930 - val_loss: 0.2350 - val_acc: 0.9680\n",
            "Epoch 5/20\n",
            "100/100 [==============================] - 10s 101ms/step - loss: 0.0948 - acc: 0.9970 - val_loss: 0.1293 - val_acc: 0.9640\n",
            "Epoch 6/20\n",
            "100/100 [==============================] - 10s 99ms/step - loss: 0.0612 - acc: 0.9990 - val_loss: 0.2498 - val_acc: 0.9700\n",
            "Epoch 7/20\n",
            "100/100 [==============================] - 10s 98ms/step - loss: 0.0411 - acc: 0.9990 - val_loss: 0.1275 - val_acc: 0.9680\n",
            "Epoch 8/20\n",
            "100/100 [==============================] - 10s 100ms/step - loss: 0.0281 - acc: 0.9990 - val_loss: 0.0871 - val_acc: 0.9620\n",
            "Epoch 9/20\n",
            "100/100 [==============================] - 10s 100ms/step - loss: 0.0231 - acc: 0.9980 - val_loss: 0.1150 - val_acc: 0.9680\n",
            "Epoch 10/20\n",
            "100/100 [==============================] - 10s 99ms/step - loss: 0.0137 - acc: 0.9990 - val_loss: 0.2098 - val_acc: 0.9680\n",
            "Epoch 11/20\n",
            "100/100 [==============================] - 10s 100ms/step - loss: 0.0141 - acc: 0.9980 - val_loss: 0.0513 - val_acc: 0.9680\n",
            "Epoch 12/20\n",
            "100/100 [==============================] - 10s 100ms/step - loss: 0.0107 - acc: 0.9990 - val_loss: 0.0924 - val_acc: 0.9720\n",
            "Epoch 13/20\n",
            "100/100 [==============================] - 10s 101ms/step - loss: 0.0088 - acc: 1.0000 - val_loss: 0.2424 - val_acc: 0.9720\n",
            "Epoch 14/20\n",
            "100/100 [==============================] - 10s 100ms/step - loss: 0.0080 - acc: 1.0000 - val_loss: 0.0302 - val_acc: 0.9620\n",
            "Epoch 15/20\n",
            "100/100 [==============================] - 10s 99ms/step - loss: 0.0060 - acc: 1.0000 - val_loss: 0.2357 - val_acc: 0.9640\n",
            "Epoch 16/20\n",
            "100/100 [==============================] - 10s 100ms/step - loss: 0.0045 - acc: 1.0000 - val_loss: 0.0229 - val_acc: 0.9760\n",
            "Epoch 17/20\n",
            "100/100 [==============================] - 10s 100ms/step - loss: 0.0037 - acc: 1.0000 - val_loss: 0.2824 - val_acc: 0.9660\n",
            "Epoch 18/20\n",
            "100/100 [==============================] - 10s 100ms/step - loss: 0.0036 - acc: 1.0000 - val_loss: 0.0177 - val_acc: 0.9680\n",
            "Epoch 19/20\n",
            "100/100 [==============================] - 10s 99ms/step - loss: 0.0045 - acc: 0.9990 - val_loss: 0.0015 - val_acc: 0.9620\n",
            "Epoch 20/20\n",
            "100/100 [==============================] - 10s 101ms/step - loss: 0.0029 - acc: 1.0000 - val_loss: 0.2470 - val_acc: 0.9680\n"
          ],
          "name": "stdout"
        }
      ]
    },
    {
      "cell_type": "markdown",
      "metadata": {
        "id": "XIwnlGbB4v9P",
        "colab_type": "text"
      },
      "source": [
        "###Freezing all layers up to a specific one"
      ]
    },
    {
      "cell_type": "code",
      "metadata": {
        "id": "GdjnmPx-2Io2",
        "colab_type": "code",
        "colab": {}
      },
      "source": [
        "conv_base.trainable = True\n",
        "set_trainable = False\n",
        "for layer in conv_base.layers:\n",
        "  if layer.name == 'block5_conv1':\n",
        "    set_trainable = True\n",
        "  if set_trainable:\n",
        "    layer.trainable = True\n",
        "  else:\n",
        "    layer.trainable = False"
      ],
      "execution_count": 8,
      "outputs": []
    },
    {
      "cell_type": "code",
      "metadata": {
        "id": "7nBYqtZf4wA_",
        "colab_type": "code",
        "colab": {
          "base_uri": "https://localhost:8080/",
          "height": 343
        },
        "outputId": "ebb15b7d-85bd-4d73-f18e-4bed0c7c6866"
      },
      "source": [
        "input_shape = (150,150,3)\n",
        "model.build(input_shape)\n",
        "model.summary()"
      ],
      "execution_count": 9,
      "outputs": [
        {
          "output_type": "stream",
          "text": [
            "Model: \"sequential_1\"\n",
            "_________________________________________________________________\n",
            "Layer (type)                 Output Shape              Param #   \n",
            "=================================================================\n",
            "vgg16 (Model)                (None, 4, 4, 512)         14714688  \n",
            "_________________________________________________________________\n",
            "flatten_1 (Flatten)          (None, 8192)              0         \n",
            "_________________________________________________________________\n",
            "dense_1 (Dense)              (None, 256)               2097408   \n",
            "_________________________________________________________________\n",
            "dense_2 (Dense)              (None, 4)                 1028      \n",
            "=================================================================\n",
            "Total params: 9,733,700\n",
            "Trainable params: 2,098,436\n",
            "Non-trainable params: 7,635,264\n",
            "_________________________________________________________________\n"
          ],
          "name": "stdout"
        },
        {
          "output_type": "stream",
          "text": [
            "/usr/local/lib/python3.6/dist-packages/keras/engine/training.py:297: UserWarning: Discrepancy between trainable weights and collected trainable weights, did you set `model.trainable` without calling `model.compile` after ?\n",
            "  'Discrepancy between trainable weights and collected trainable'\n"
          ],
          "name": "stderr"
        }
      ]
    },
    {
      "cell_type": "markdown",
      "metadata": {
        "id": "Q8w7LCKg439z",
        "colab_type": "text"
      },
      "source": [
        "##Training our new model: Fine Tuning"
      ]
    },
    {
      "cell_type": "code",
      "metadata": {
        "id": "0DOnigL02I0N",
        "colab_type": "code",
        "colab": {
          "base_uri": "https://localhost:8080/",
          "height": 697
        },
        "outputId": "0ec5d8e0-1570-4b18-ddf7-51372871d078"
      },
      "source": [
        "model.compile(loss='categorical_crossentropy',\n",
        "optimizer=optimizers.RMSprop(lr=0.0000001),\n",
        "metrics=['acc'])\n",
        "\n",
        "history = model.fit_generator(\n",
        "train_generator,\n",
        "steps_per_epoch=100,\n",
        "epochs=20,\n",
        "validation_data=validation_generator,\n",
        "validation_steps=50)"
      ],
      "execution_count": 10,
      "outputs": [
        {
          "output_type": "stream",
          "text": [
            "Epoch 1/20\n",
            "100/100 [==============================] - 12s 118ms/step - loss: 0.0022 - acc: 1.0000 - val_loss: 0.2018 - val_acc: 0.9640\n",
            "Epoch 2/20\n",
            "100/100 [==============================] - 11s 109ms/step - loss: 0.0045 - acc: 0.9990 - val_loss: 9.1352e-04 - val_acc: 0.9700\n",
            "Epoch 3/20\n",
            "100/100 [==============================] - 11s 108ms/step - loss: 0.0015 - acc: 1.0000 - val_loss: 0.0091 - val_acc: 0.9680\n",
            "Epoch 4/20\n",
            "100/100 [==============================] - 11s 109ms/step - loss: 0.0032 - acc: 0.9990 - val_loss: 0.0111 - val_acc: 0.9680\n",
            "Epoch 5/20\n",
            "100/100 [==============================] - 11s 107ms/step - loss: 0.0022 - acc: 1.0000 - val_loss: 0.0118 - val_acc: 0.9700\n",
            "Epoch 6/20\n",
            "100/100 [==============================] - 11s 107ms/step - loss: 0.0015 - acc: 1.0000 - val_loss: 0.2897 - val_acc: 0.9700\n",
            "Epoch 7/20\n",
            "100/100 [==============================] - 11s 107ms/step - loss: 0.0028 - acc: 0.9990 - val_loss: 0.2815 - val_acc: 0.9660\n",
            "Epoch 8/20\n",
            "100/100 [==============================] - 11s 106ms/step - loss: 0.0018 - acc: 1.0000 - val_loss: 0.1503 - val_acc: 0.9740\n",
            "Epoch 9/20\n",
            "100/100 [==============================] - 11s 107ms/step - loss: 0.0035 - acc: 0.9980 - val_loss: 0.0804 - val_acc: 0.9680\n",
            "Epoch 10/20\n",
            "100/100 [==============================] - 11s 108ms/step - loss: 0.0032 - acc: 0.9990 - val_loss: 0.0039 - val_acc: 0.9720\n",
            "Epoch 11/20\n",
            "100/100 [==============================] - 11s 108ms/step - loss: 0.0014 - acc: 1.0000 - val_loss: 0.0088 - val_acc: 0.9700\n",
            "Epoch 12/20\n",
            "100/100 [==============================] - 11s 107ms/step - loss: 9.9425e-04 - acc: 1.0000 - val_loss: 0.0046 - val_acc: 0.9700\n",
            "Epoch 13/20\n",
            "100/100 [==============================] - 11s 107ms/step - loss: 0.0014 - acc: 1.0000 - val_loss: 0.0180 - val_acc: 0.9720\n",
            "Epoch 14/20\n",
            "100/100 [==============================] - 11s 113ms/step - loss: 0.0033 - acc: 0.9990 - val_loss: 0.0164 - val_acc: 0.9680\n",
            "Epoch 15/20\n",
            "100/100 [==============================] - 11s 108ms/step - loss: 0.0011 - acc: 1.0000 - val_loss: 0.0180 - val_acc: 0.9660\n",
            "Epoch 16/20\n",
            "100/100 [==============================] - 11s 107ms/step - loss: 7.4928e-04 - acc: 1.0000 - val_loss: 0.2168 - val_acc: 0.9740\n",
            "Epoch 17/20\n",
            "100/100 [==============================] - 11s 106ms/step - loss: 6.2200e-04 - acc: 1.0000 - val_loss: 0.0111 - val_acc: 0.9720\n",
            "Epoch 18/20\n",
            "100/100 [==============================] - 11s 107ms/step - loss: 0.0026 - acc: 1.0000 - val_loss: 0.0323 - val_acc: 0.9680\n",
            "Epoch 19/20\n",
            "100/100 [==============================] - 11s 106ms/step - loss: 6.0683e-04 - acc: 1.0000 - val_loss: 9.1960e-04 - val_acc: 0.9700\n",
            "Epoch 20/20\n",
            "100/100 [==============================] - 11s 107ms/step - loss: 0.0014 - acc: 1.0000 - val_loss: 0.0105 - val_acc: 0.9700\n"
          ],
          "name": "stdout"
        }
      ]
    },
    {
      "cell_type": "code",
      "metadata": {
        "id": "TbpWhi1uGbpK",
        "colab_type": "code",
        "colab": {}
      },
      "source": [
        "model.save('Transfer_ges.h5')"
      ],
      "execution_count": 11,
      "outputs": []
    },
    {
      "cell_type": "markdown",
      "metadata": {
        "id": "aZd2J4Ph4_R4",
        "colab_type": "text"
      },
      "source": [
        "##PLotting the results"
      ]
    },
    {
      "cell_type": "code",
      "metadata": {
        "id": "g9g_2A5cGcy2",
        "colab_type": "code",
        "colab": {
          "base_uri": "https://localhost:8080/",
          "height": 545
        },
        "outputId": "8e269681-11d9-4f05-e657-ce9daa90ccad"
      },
      "source": [
        "import matplotlib.pyplot as plt\n",
        "acc = history.history['acc']\n",
        "val_acc = history.history['val_acc']\n",
        "loss = history.history['loss']\n",
        "val_loss = history.history['val_loss']\n",
        "epochs = range(1, len(acc) + 1)\n",
        "plt.plot(epochs, acc, 'bo', label='Training acc')\n",
        "plt.plot(epochs, val_acc, 'b', label='Validation acc')\n",
        "plt.title('Training and validation accuracy')\n",
        "plt.legend()\n",
        "plt.figure()\n",
        "plt.plot(epochs, loss, 'bo', label='Training loss')\n",
        "plt.plot(epochs, val_loss, 'b', label='Validation loss')\n",
        "plt.title('Training and validation loss')\n",
        "plt.legend()\n",
        "plt.show()"
      ],
      "execution_count": 12,
      "outputs": [
        {
          "output_type": "display_data",
          "data": {
            "image/png": "[encoded data removed]",
            "text/plain": [
              "<Figure size 432x288 with 1 Axes>"
            ]
          },
          "metadata": {
            "tags": [],
            "needs_background": "light"
          }
        },
        {
          "output_type": "display_data",
          "data": {
            "image/png": "[encoded data removed]",
            "text/plain": [
              "<Figure size 432x288 with 1 Axes>"
            ]
          },
          "metadata": {
            "tags": [],
            "needs_background": "light"
          }
        }
      ]
    },
    {
      "cell_type": "code",
      "metadata": {
        "id": "YiVH0jkl2I8d",
        "colab_type": "code",
        "colab": {
          "base_uri": "https://localhost:8080/",
          "height": 545
        },
        "outputId": "9a90a24e-d30e-4e82-9c0a-d73775802afa"
      },
      "source": [
        "def smooth_curve(points, factor=0.8):\n",
        "  smoothed_points = []\n",
        "  for point in points:\n",
        "    if smoothed_points:\n",
        "      previous = smoothed_points[-1]\n",
        "      smoothed_points.append(previous * factor + point * (1 - factor))\n",
        "    else:\n",
        "      smoothed_points.append(point)\n",
        "  return smoothed_points\n",
        "plt.plot(epochs,\n",
        "smooth_curve(val_acc), 'bo', label='Smoothed training acc')\n",
        "plt.plot(epochs,\n",
        "smooth_curve(val_acc), 'b', label='Smoothed validation acc')\n",
        "plt.title('Training and validation accuracy')\n",
        "plt.legend()\n",
        "plt.figure()\n",
        "plt.plot(epochs,\n",
        "smooth_curve(loss), 'bo', label='Smoothed training loss')\n",
        "plt.plot(epochs,\n",
        "smooth_curve(val_loss), 'b', label='Smoothed validation loss')\n",
        "plt.title('Training and validation loss')\n",
        "plt.legend()\n",
        "plt.show()"
      ],
      "execution_count": 13,
      "outputs": [
        {
          "output_type": "display_data",
          "data": {
            "image/png": "[encoded data removed]",
            "text/plain": [
              "<Figure size 432x288 with 1 Axes>"
            ]
          },
          "metadata": {
            "tags": [],
            "needs_background": "light"
          }
        },
        {
          "output_type": "display_data",
          "data": {
            "image/png": "[encoded data removed]",
            "text/plain": [
              "<Figure size 432x288 with 1 Axes>"
            ]
          },
          "metadata": {
            "tags": [],
            "needs_background": "light"
          }
        }
      ]
    },
    {
      "cell_type": "markdown",
      "metadata": {
        "id": "XqNLVXnM5tZN",
        "colab_type": "text"
      },
      "source": [
        "#Thus we got 97% accuracy in classifying hand gesture using model based on pretrained convolutional network."
      ]
    },
    {
      "cell_type": "code",
      "metadata": {
        "id": "SIVcwU_C2JEd",
        "colab_type": "code",
        "colab": {}
      },
      "source": [
        ""
      ],
      "execution_count": null,
      "outputs": []
    },
    {
      "cell_type": "code",
      "metadata": {
        "id": "IYbC3dn82JLJ",
        "colab_type": "code",
        "colab": {}
      },
      "source": [
        ""
      ],
      "execution_count": null,
      "outputs": []
    },
    {
      "cell_type": "code",
      "metadata": {
        "id": "8pGn0D-c2JR5",
        "colab_type": "code",
        "colab": {}
      },
      "source": [
        ""
      ],
      "execution_count": null,
      "outputs": []
    },
    {
      "cell_type": "code",
      "metadata": {
        "id": "rI-4dGzk2JZM",
        "colab_type": "code",
        "colab": {}
      },
      "source": [
        ""
      ],
      "execution_count": null,
      "outputs": []
    },
    {
      "cell_type": "code",
      "metadata": {
        "id": "53U-00Ev2JgU",
        "colab_type": "code",
        "colab": {}
      },
      "source": [
        ""
      ],
      "execution_count": null,
      "outputs": []
    },
    {
      "cell_type": "code",
      "metadata": {
        "id": "jKSJqjil2Jxd",
        "colab_type": "code",
        "colab": {}
      },
      "source": [
        ""
      ],
      "execution_count": null,
      "outputs": []
    }
  ]
}