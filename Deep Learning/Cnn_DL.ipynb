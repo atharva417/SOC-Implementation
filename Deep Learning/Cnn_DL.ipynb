{
  "nbformat": 4,
  "nbformat_minor": 0,
  "metadata": {
    "colab": {
      "name": "Cnn DL",
      "provenance": [],
      "collapsed_sections": []
    },
    "kernelspec": {
      "name": "python3",
      "display_name": "Python 3"
    },
    "accelerator": "GPU"
  },
  "cells": [
    {
      "cell_type": "code",
      "metadata": {
        "id": "Ju1Kk12FJhJK",
        "colab_type": "code",
        "colab": {
          "base_uri": "https://localhost:8080/",
          "height": 34
        },
        "outputId": "2df93478-31d8-4b57-821b-c04a19e296b8"
      },
      "source": [
        "%tensorflow_version 2.x\n",
        "import tensorflow as tf\n",
        "device_name = tf.test.gpu_device_name()\n",
        "if device_name != '/device:GPU:0':\n",
        "  raise SystemError('GPU device not found')\n",
        "print('Found GPU at: {}'.format(device_name))"
      ],
      "execution_count": null,
      "outputs": [
        {
          "output_type": "stream",
          "text": [
            "Found GPU at: /device:GPU:0\n"
          ],
          "name": "stdout"
        }
      ]
    },
    {
      "cell_type": "code",
      "metadata": {
        "id": "3uIx4juLhFTI",
        "colab_type": "code",
        "colab": {
          "base_uri": "https://localhost:8080/",
          "height": 122
        },
        "outputId": "9c93a948-f751-4c63-e446-33e471f2484f"
      },
      "source": [
        "from google.colab import drive\n",
        "drive.mount('/content/drive')"
      ],
      "execution_count": 1,
      "outputs": [
        {
          "output_type": "stream",
          "text": [
            "Go to this URL in a browser: https://accounts.google.com/o/oauth2/auth?client_id=947318989803-6bn6qk8qdgf4n4g3pfee6491hc0brc4i.apps.googleusercontent.com&redirect_uri=urn%3aietf%3awg%3aoauth%3a2.0%3aoob&response_type=code&scope=email%20https%3a%2f%2fwww.googleapis.com%2fauth%2fdocs.test%20https%3a%2f%2fwww.googleapis.com%2fauth%2fdrive%20https%3a%2f%2fwww.googleapis.com%2fauth%2fdrive.photos.readonly%20https%3a%2f%2fwww.googleapis.com%2fauth%2fpeopleapi.readonly\n",
            "\n",
            "Enter your authorization code:\n",
            "··········\n",
            "Mounted at /content/drive\n"
          ],
          "name": "stdout"
        }
      ]
    },
    {
      "cell_type": "markdown",
      "metadata": {
        "id": "x0b-cjmnL2nr",
        "colab_type": "text"
      },
      "source": [
        "##Instantiating a small convnet"
      ]
    },
    {
      "cell_type": "code",
      "metadata": {
        "id": "LqXz7EneKy0H",
        "colab_type": "code",
        "colab": {
          "base_uri": "https://localhost:8080/",
          "height": 34
        },
        "outputId": "15cb3356-5259-431e-9279-98bd4d4e0d7c"
      },
      "source": [
        "from keras import layers\n",
        "from keras import models\n",
        "model = models.Sequential()\n",
        "#convnets\n",
        "model.add(layers.Conv2D(32, (3, 3), activation='relu', input_shape=(28, 28, 1)))\n",
        "model.add(layers.MaxPooling2D((2, 2)))\n",
        "model.add(layers.Conv2D(64, (3, 3), activation='relu'))\n",
        "model.add(layers.MaxPooling2D((2, 2)))\n",
        "model.add(layers.Conv2D(64, (3, 3), activation='relu'))\n",
        "#Dense layers\n",
        "model.add(layers.Flatten())\n",
        "model.add(layers.Dense(64, activation='relu'))\n",
        "model.add(layers.Dense(10, activation='softmax'))"
      ],
      "execution_count": 3,
      "outputs": [
        {
          "output_type": "stream",
          "text": [
            "Using TensorFlow backend.\n"
          ],
          "name": "stderr"
        }
      ]
    },
    {
      "cell_type": "markdown",
      "metadata": {
        "id": "p_BvmEMzLtdX",
        "colab_type": "text"
      },
      "source": [
        "##Training the convnets on mnist dataset"
      ]
    },
    {
      "cell_type": "code",
      "metadata": {
        "id": "xAGVxF4PLOK4",
        "colab_type": "code",
        "colab": {
          "base_uri": "https://localhost:8080/",
          "height": 204
        },
        "outputId": "e6e86f02-60f3-4b05-f606-2773377cd7c3"
      },
      "source": [
        "from keras.datasets import mnist\n",
        "from keras.utils import to_categorical\n",
        "(train_images, train_labels), (test_images, test_labels) = mnist.load_data()\n",
        "train_images = train_images.reshape((60000, 28, 28, 1))\n",
        "train_images = train_images.astype('float32') / 255\n",
        "test_images = test_images.reshape((10000, 28, 28, 1))\n",
        "test_images = test_images.astype('float32') / 255\n",
        "train_labels = to_categorical(train_labels)\n",
        "test_labels = to_categorical(test_labels)\n",
        "model.compile(optimizer='rmsprop',\n",
        "loss='categorical_crossentropy',\n",
        "metrics=['accuracy'])\n",
        "model.fit(train_images, train_labels, epochs=5, batch_size=64)\n",
        "test_loss, test_acc = model.evaluate(test_images, test_labels)"
      ],
      "execution_count": 5,
      "outputs": [
        {
          "output_type": "stream",
          "text": [
            "Epoch 1/5\n",
            "60000/60000 [==============================] - 9s 144us/step - loss: 0.1701 - accuracy: 0.9465\n",
            "Epoch 2/5\n",
            "60000/60000 [==============================] - 8s 132us/step - loss: 0.0477 - accuracy: 0.9852\n",
            "Epoch 3/5\n",
            "60000/60000 [==============================] - 8s 131us/step - loss: 0.0326 - accuracy: 0.9903\n",
            "Epoch 4/5\n",
            "60000/60000 [==============================] - 8s 131us/step - loss: 0.0236 - accuracy: 0.9924\n",
            "Epoch 5/5\n",
            "60000/60000 [==============================] - 8s 132us/step - loss: 0.0198 - accuracy: 0.9942\n",
            "10000/10000 [==============================] - 1s 110us/step\n"
          ],
          "name": "stdout"
        }
      ]
    },
    {
      "cell_type": "code",
      "metadata": {
        "id": "LizYel7fMCK6",
        "colab_type": "code",
        "colab": {
          "base_uri": "https://localhost:8080/",
          "height": 34
        },
        "outputId": "4909e39f-9aa2-4ea3-9537-6e253852a849"
      },
      "source": [
        "test_acc"
      ],
      "execution_count": 6,
      "outputs": [
        {
          "output_type": "execute_result",
          "data": {
            "text/plain": [
              "0.9930999875068665"
            ]
          },
          "metadata": {
            "tags": []
          },
          "execution_count": 6
        }
      ]
    },
    {
      "cell_type": "code",
      "metadata": {
        "id": "dhWEwb3hMR4U",
        "colab_type": "code",
        "colab": {}
      },
      "source": [
        ""
      ],
      "execution_count": 6,
      "outputs": []
    },
    {
      "cell_type": "markdown",
      "metadata": {
        "id": "omFEFzLD2CIe",
        "colab_type": "text"
      },
      "source": [
        "# Training Convnets on small dataset"
      ]
    },
    {
      "cell_type": "markdown",
      "metadata": {
        "id": "dO0pwALT2RWy",
        "colab_type": "text"
      },
      "source": [
        "## Segregate into training, validation, and test directories"
      ]
    },
    {
      "cell_type": "code",
      "metadata": {
        "id": "1CXZBsFV2OTR",
        "colab_type": "code",
        "colab": {}
      },
      "source": [
        "train_dir = '/content/drive/My Drive/base_dir/train_dir'\n",
        "validation_dir = '/content/drive/My Drive/base_dir/val_dir'\n",
        "test_dir = '/content/drive/My Drive/base_dir/test_dir'"
      ],
      "execution_count": 2,
      "outputs": []
    },
    {
      "cell_type": "markdown",
      "metadata": {
        "id": "37dAW3svEfjD",
        "colab_type": "text"
      },
      "source": [
        "##Instantiating a small convnet for dogs vs. cats classification"
      ]
    },
    {
      "cell_type": "code",
      "metadata": {
        "id": "t6HmTufc2gsh",
        "colab_type": "code",
        "colab": {}
      },
      "source": [
        "from keras import layers\n",
        "from keras import models\n",
        "model = models.Sequential()\n",
        "model.add(layers.Conv2D(32, (3, 3), activation='relu',\n",
        "input_shape=(150, 150, 3)))\n",
        "model.add(layers.MaxPooling2D((2, 2)))\n",
        "model.add(layers.Conv2D(64, (3, 3), activation='relu'))\n",
        "model.add(layers.MaxPooling2D((2, 2)))\n",
        "model.add(layers.Conv2D(128, (3, 3), activation='relu'))\n",
        "model.add(layers.MaxPooling2D((2, 2)))\n",
        "model.add(layers.Conv2D(128, (3, 3), activation='relu'))\n",
        "model.add(layers.MaxPooling2D((2, 2)))\n",
        "model.add(layers.Flatten())\n",
        "model.add(layers.Dense(512, activation='relu'))\n",
        "model.add(layers.Dense(1, activation='sigmoid'))"
      ],
      "execution_count": 8,
      "outputs": []
    },
    {
      "cell_type": "code",
      "metadata": {
        "id": "yc5cPbAl2hr6",
        "colab_type": "code",
        "colab": {}
      },
      "source": [
        "from keras import optimizers\n",
        "model.compile(loss='binary_crossentropy',\n",
        "optimizer=optimizers.RMSprop(lr=1e-4),\n",
        "metrics=['acc'])"
      ],
      "execution_count": 9,
      "outputs": []
    },
    {
      "cell_type": "markdown",
      "metadata": {
        "id": "tAKJwhvsEnDp",
        "colab_type": "text"
      },
      "source": [
        "##Using ImageDataGenerator to read images from directories"
      ]
    },
    {
      "cell_type": "code",
      "metadata": {
        "id": "BuyVa-LY2iES",
        "colab_type": "code",
        "colab": {
          "base_uri": "https://localhost:8080/",
          "height": 51
        },
        "outputId": "abbc506f-2436-4762-e8a9-d0fe27d49e3b"
      },
      "source": [
        "from keras.preprocessing.image import ImageDataGenerator\n",
        "train_datagen = ImageDataGenerator(rescale=1./255)\n",
        "test_datagen = ImageDataGenerator(rescale=1./255)\n",
        "train_generator = train_datagen.flow_from_directory(\n",
        "train_dir,\n",
        "target_size=(150, 150),\n",
        "batch_size = 20,\n",
        "class_mode='binary')\n",
        "validation_generator = test_datagen.flow_from_directory(\n",
        "validation_dir,\n",
        "target_size=(150, 150),\n",
        "batch_size=20,\n",
        "class_mode='binary')"
      ],
      "execution_count": 10,
      "outputs": [
        {
          "output_type": "stream",
          "text": [
            "Found 2048 images belonging to 2 classes.\n",
            "Found 1025 images belonging to 2 classes.\n"
          ],
          "name": "stdout"
        }
      ]
    },
    {
      "cell_type": "code",
      "metadata": {
        "id": "uW6_QvrW2iKz",
        "colab_type": "code",
        "colab": {
          "base_uri": "https://localhost:8080/",
          "height": 51
        },
        "outputId": "c75bc823-4aee-4198-b266-4bafaf8a41d4"
      },
      "source": [
        "for data_batch, labels_batch in train_generator:\n",
        "  print('data batch shape:', data_batch.shape)\n",
        "  print('labels batch shape:', labels_batch.shape)\n",
        "  break"
      ],
      "execution_count": 11,
      "outputs": [
        {
          "output_type": "stream",
          "text": [
            "data batch shape: (20, 150, 150, 3)\n",
            "labels batch shape: (20,)\n"
          ],
          "name": "stdout"
        }
      ]
    },
    {
      "cell_type": "markdown",
      "metadata": {
        "id": "h3lrOwg-Ew3r",
        "colab_type": "text"
      },
      "source": [
        "##Fitting the model using a batch generator"
      ]
    },
    {
      "cell_type": "code",
      "metadata": {
        "id": "8Ex8T4Gl2iS0",
        "colab_type": "code",
        "colab": {
          "base_uri": "https://localhost:8080/",
          "height": 697
        },
        "outputId": "68d39f4f-cde2-4ff5-cf78-03d840a1e552"
      },
      "source": [
        "history = model.fit_generator(\n",
        "train_generator,\n",
        "steps_per_epoch=100,\n",
        "epochs=20,\n",
        "validation_data=validation_generator,\n",
        "validation_steps=50)"
      ],
      "execution_count": 12,
      "outputs": [
        {
          "output_type": "stream",
          "text": [
            "Epoch 1/20\n",
            "100/100 [==============================] - 706s 7s/step - loss: 0.6921 - acc: 0.5332 - val_loss: 0.6985 - val_acc: 0.5800\n",
            "Epoch 2/20\n",
            "100/100 [==============================] - 15s 149ms/step - loss: 0.6532 - acc: 0.6212 - val_loss: 0.6487 - val_acc: 0.6325\n",
            "Epoch 3/20\n",
            "100/100 [==============================] - 14s 143ms/step - loss: 0.6051 - acc: 0.6695 - val_loss: 0.5801 - val_acc: 0.6426\n",
            "Epoch 4/20\n",
            "100/100 [==============================] - 14s 144ms/step - loss: 0.5579 - acc: 0.7067 - val_loss: 0.9123 - val_acc: 0.6142\n",
            "Epoch 5/20\n",
            "100/100 [==============================] - 14s 138ms/step - loss: 0.5338 - acc: 0.7349 - val_loss: 0.5388 - val_acc: 0.6985\n",
            "Epoch 6/20\n",
            "100/100 [==============================] - 14s 139ms/step - loss: 0.4921 - acc: 0.7591 - val_loss: 0.7077 - val_acc: 0.7015\n",
            "Epoch 7/20\n",
            "100/100 [==============================] - 14s 137ms/step - loss: 0.4736 - acc: 0.7666 - val_loss: 0.6292 - val_acc: 0.7178\n",
            "Epoch 8/20\n",
            "100/100 [==============================] - 14s 136ms/step - loss: 0.4353 - acc: 0.7978 - val_loss: 0.3314 - val_acc: 0.7168\n",
            "Epoch 9/20\n",
            "100/100 [==============================] - 14s 135ms/step - loss: 0.4080 - acc: 0.8174 - val_loss: 0.6061 - val_acc: 0.7259\n",
            "Epoch 10/20\n",
            "100/100 [==============================] - 14s 136ms/step - loss: 0.3906 - acc: 0.8224 - val_loss: 0.4988 - val_acc: 0.7025\n",
            "Epoch 11/20\n",
            "100/100 [==============================] - 14s 136ms/step - loss: 0.3693 - acc: 0.8395 - val_loss: 0.6369 - val_acc: 0.6995\n",
            "Epoch 12/20\n",
            "100/100 [==============================] - 14s 144ms/step - loss: 0.3340 - acc: 0.8571 - val_loss: 0.5097 - val_acc: 0.7239\n",
            "Epoch 13/20\n",
            "100/100 [==============================] - 14s 139ms/step - loss: 0.3063 - acc: 0.8745 - val_loss: 0.5466 - val_acc: 0.7340\n",
            "Epoch 14/20\n",
            "100/100 [==============================] - 14s 136ms/step - loss: 0.2912 - acc: 0.8883 - val_loss: 0.6862 - val_acc: 0.7157\n",
            "Epoch 15/20\n",
            "100/100 [==============================] - 13s 134ms/step - loss: 0.2651 - acc: 0.8927 - val_loss: 0.6378 - val_acc: 0.7391\n",
            "Epoch 16/20\n",
            "100/100 [==============================] - 14s 136ms/step - loss: 0.2521 - acc: 0.8989 - val_loss: 0.4152 - val_acc: 0.7442\n",
            "Epoch 17/20\n",
            "100/100 [==============================] - 13s 134ms/step - loss: 0.2241 - acc: 0.9095 - val_loss: 0.5905 - val_acc: 0.7310\n",
            "Epoch 18/20\n",
            "100/100 [==============================] - 14s 135ms/step - loss: 0.2092 - acc: 0.9210 - val_loss: 1.2268 - val_acc: 0.7279\n",
            "Epoch 19/20\n",
            "100/100 [==============================] - 14s 136ms/step - loss: 0.1850 - acc: 0.9332 - val_loss: 0.4368 - val_acc: 0.7056\n",
            "Epoch 20/20\n",
            "100/100 [==============================] - 14s 138ms/step - loss: 0.1709 - acc: 0.9355 - val_loss: 0.5687 - val_acc: 0.7147\n"
          ],
          "name": "stdout"
        }
      ]
    },
    {
      "cell_type": "code",
      "metadata": {
        "id": "7MClBYAKFmHs",
        "colab_type": "code",
        "colab": {}
      },
      "source": [
        "model.save('cats_and_dogs_small_1.h5')"
      ],
      "execution_count": 13,
      "outputs": []
    },
    {
      "cell_type": "markdown",
      "metadata": {
        "id": "ZSsA6Hm-E2Ue",
        "colab_type": "text"
      },
      "source": [
        "##Displaying curves of loss and accuracy during training"
      ]
    },
    {
      "cell_type": "code",
      "metadata": {
        "id": "GAVV8O-lELNQ",
        "colab_type": "code",
        "colab": {
          "base_uri": "https://localhost:8080/",
          "height": 545
        },
        "outputId": "5c22ef6b-8437-4a59-987f-2cfc9190e5be"
      },
      "source": [
        "import matplotlib.pyplot as plt\n",
        "acc = history.history['acc']\n",
        "val_acc = history.history['val_acc']\n",
        "loss = history.history['loss']\n",
        "val_loss = history.history['val_loss']\n",
        "epochs = range(1, len(acc) + 1)\n",
        "plt.plot(epochs, acc, 'bo', label='Training acc')\n",
        "plt.plot(epochs, val_acc, 'b', label='Validation acc')\n",
        "plt.title('Training and validation accuracy')\n",
        "plt.legend()\n",
        "plt.figure()\n",
        "plt.plot(epochs, loss, 'bo', label='Training loss')\n",
        "plt.plot(epochs, val_loss, 'b', label='Validation loss')\n",
        "plt.title('Training and validation loss')\n",
        "plt.legend()\n",
        "plt.show()"
      ],
      "execution_count": 14,
      "outputs": [
        {
          "output_type": "display_data",
          "data": {
            "image/png": "[encoded data removed]",
            "text/plain": [
              "<Figure size 432x288 with 1 Axes>"
            ]
          },
          "metadata": {
            "tags": [],
            "needs_background": "light"
          }
        },
        {
          "output_type": "display_data",
          "data": {
            "image/png": "[encoded data removed]",
            "text/plain": [
              "<Figure size 432x288 with 1 Axes>"
            ]
          },
          "metadata": {
            "tags": [],
            "needs_background": "light"
          }
        }
      ]
    },
    {
      "cell_type": "markdown",
      "metadata": {
        "id": "6PlSgjOpHXP2",
        "colab_type": "text"
      },
      "source": [
        "##Data Augumentation"
      ]
    },
    {
      "cell_type": "code",
      "metadata": {
        "id": "GZKOS7NaELf1",
        "colab_type": "code",
        "colab": {}
      },
      "source": [
        "datagen = ImageDataGenerator(\n",
        "rotation_range=40,\n",
        "width_shift_range=0.2,\n",
        "height_shift_range=0.2,\n",
        "shear_range=0.2,\n",
        "zoom_range=0.2,\n",
        "horizontal_flip=True,\n",
        "fill_mode='nearest')"
      ],
      "execution_count": null,
      "outputs": []
    },
    {
      "cell_type": "markdown",
      "metadata": {
        "id": "KXymkrN6H9Uf",
        "colab_type": "text"
      },
      "source": [
        "##Displaying some randomly augmented training images"
      ]
    },
    {
      "cell_type": "code",
      "metadata": {
        "id": "-hY65__UELmG",
        "colab_type": "code",
        "colab": {
          "base_uri": "https://localhost:8080/",
          "height": 231
        },
        "outputId": "25d3f126-c605-4643-a3d4-23a01eb5022b"
      },
      "source": [
        "import os\n",
        "from keras.preprocessing import image\n",
        "fnames = [os.path.join(train_cats_dir, fname) for\n",
        "fname in os.listdir(train_cats_dir)]\n",
        "img_path = fnames[3]\n",
        "img = image.load_img(img_path, target_size=(150, 150))\n",
        "x = image.img_to_array(img)\n",
        "x = x.reshape((1,) + x.shape)\n",
        "i = 0\n",
        "for batch in datagen.flow(x, batch_size=1):\n",
        "  plt.figure(i)\n",
        "  imgplot = plt.imshow(image.array_to_img(batch[0]))\n",
        "  i += 1\n",
        "  if i % 4 == 0:\n",
        "    break\n",
        "plt.show()"
      ],
      "execution_count": 17,
      "outputs": [
        {
          "output_type": "error",
          "ename": "NameError",
          "evalue": "ignored",
          "traceback": [
            "\u001b[0;31m---------------------------------------------------------------------------\u001b[0m",
            "\u001b[0;31mNameError\u001b[0m                                 Traceback (most recent call last)",
            "\u001b[0;32m<ipython-input-17-6f90a37bc946>\u001b[0m in \u001b[0;36m<module>\u001b[0;34m()\u001b[0m\n\u001b[1;32m      2\u001b[0m \u001b[0;32mfrom\u001b[0m \u001b[0mkeras\u001b[0m\u001b[0;34m.\u001b[0m\u001b[0mpreprocessing\u001b[0m \u001b[0;32mimport\u001b[0m \u001b[0mimage\u001b[0m\u001b[0;34m\u001b[0m\u001b[0;34m\u001b[0m\u001b[0m\n\u001b[1;32m      3\u001b[0m fnames = [os.path.join(train_cats_dir, fname) for\n\u001b[0;32m----> 4\u001b[0;31m fname in os.listdir(train_cats_dir)]\n\u001b[0m\u001b[1;32m      5\u001b[0m \u001b[0mimg_path\u001b[0m \u001b[0;34m=\u001b[0m \u001b[0mfnames\u001b[0m\u001b[0;34m[\u001b[0m\u001b[0;36m3\u001b[0m\u001b[0;34m]\u001b[0m\u001b[0;34m\u001b[0m\u001b[0;34m\u001b[0m\u001b[0m\n\u001b[1;32m      6\u001b[0m \u001b[0mimg\u001b[0m \u001b[0;34m=\u001b[0m \u001b[0mimage\u001b[0m\u001b[0;34m.\u001b[0m\u001b[0mload_img\u001b[0m\u001b[0;34m(\u001b[0m\u001b[0mimg_path\u001b[0m\u001b[0;34m,\u001b[0m \u001b[0mtarget_size\u001b[0m\u001b[0;34m=\u001b[0m\u001b[0;34m(\u001b[0m\u001b[0;36m150\u001b[0m\u001b[0;34m,\u001b[0m \u001b[0;36m150\u001b[0m\u001b[0;34m)\u001b[0m\u001b[0;34m)\u001b[0m\u001b[0;34m\u001b[0m\u001b[0;34m\u001b[0m\u001b[0m\n",
            "\u001b[0;31mNameError\u001b[0m: name 'train_cats_dir' is not defined"
          ]
        }
      ]
    },
    {
      "cell_type": "markdown",
      "metadata": {
        "id": "ho_jRvzAIJhr",
        "colab_type": "text"
      },
      "source": [
        "##Training the convnet using data-augmentation generators with added dropouts"
      ]
    },
    {
      "cell_type": "code",
      "metadata": {
        "id": "fpLHUF00ELqP",
        "colab_type": "code",
        "colab": {}
      },
      "source": [
        "model = models.Sequential()\n",
        "model.add(layers.Conv2D(32, (3, 3), activation='relu',\n",
        "input_shape=(150, 150, 3)))\n",
        "model.add(layers.MaxPooling2D((2, 2)))\n",
        "model.add(layers.Conv2D(64, (3, 3), activation='relu'))\n",
        "model.add(layers.MaxPooling2D((2, 2)))\n",
        "model.add(layers.Conv2D(128, (3, 3), activation='relu'))\n",
        "model.add(layers.MaxPooling2D((2, 2)))\n",
        "model.add(layers.Conv2D(128, (3, 3), activation='relu'))\n",
        "model.add(layers.MaxPooling2D((2, 2)))\n",
        "model.add(layers.Flatten())\n",
        "model.add(layers.Dropout(0.5))\n",
        "model.add(layers.Dense(512, activation='relu'))\n",
        "model.add(layers.Dense(1, activation='sigmoid'))\n",
        "model.compile(loss='binary_crossentropy',\n",
        "optimizer=optimizers.RMSprop(lr=1e-4),\n",
        "metrics=['acc'])"
      ],
      "execution_count": 18,
      "outputs": []
    },
    {
      "cell_type": "code",
      "metadata": {
        "id": "SKCTRtClELuI",
        "colab_type": "code",
        "colab": {
          "base_uri": "https://localhost:8080/",
          "height": 1000
        },
        "outputId": "d1789dc6-3f9f-4f96-8889-32d985eca203"
      },
      "source": [
        "train_datagen = ImageDataGenerator(\n",
        "rescale=1./255,\n",
        "rotation_range=40,\n",
        "width_shift_range=0.2,\n",
        "height_shift_range=0.2,\n",
        "shear_range=0.2,\n",
        "zoom_range=0.2,\n",
        "horizontal_flip=True,)\n",
        "test_datagen = ImageDataGenerator(rescale=1./255)\n",
        "train_generator = train_datagen.flow_from_directory(\n",
        "train_dir,\n",
        "target_size=(150, 150),\n",
        "batch_size=32,\n",
        "class_mode='binary')\n",
        "validation_generator = test_datagen.flow_from_directory(\n",
        "validation_dir,\n",
        "target_size=(150, 150),\n",
        "batch_size=32,\n",
        "class_mode='binary')\n",
        "history = model.fit_generator(\n",
        "train_generator,\n",
        "steps_per_epoch=100,\n",
        "epochs=30,\n",
        "validation_data=validation_generator,\n",
        "validation_steps=50)"
      ],
      "execution_count": 20,
      "outputs": [
        {
          "output_type": "stream",
          "text": [
            "Found 2048 images belonging to 2 classes.\n",
            "Found 1025 images belonging to 2 classes.\n",
            "Epoch 1/30\n",
            "100/100 [==============================] - 41s 407ms/step - loss: 0.6890 - acc: 0.5412 - val_loss: 0.6861 - val_acc: 0.5309\n",
            "Epoch 2/30\n",
            "100/100 [==============================] - 37s 368ms/step - loss: 0.6722 - acc: 0.5844 - val_loss: 0.5762 - val_acc: 0.6125\n",
            "Epoch 3/30\n",
            "100/100 [==============================] - 38s 378ms/step - loss: 0.6578 - acc: 0.6084 - val_loss: 0.6749 - val_acc: 0.6265\n",
            "Epoch 4/30\n",
            "100/100 [==============================] - 37s 372ms/step - loss: 0.6395 - acc: 0.6322 - val_loss: 0.6313 - val_acc: 0.6567\n",
            "Epoch 5/30\n",
            "100/100 [==============================] - 37s 371ms/step - loss: 0.6224 - acc: 0.6597 - val_loss: 0.5606 - val_acc: 0.6597\n",
            "Epoch 6/30\n",
            "100/100 [==============================] - 37s 365ms/step - loss: 0.6037 - acc: 0.6797 - val_loss: 0.5426 - val_acc: 0.6834\n",
            "Epoch 7/30\n",
            "100/100 [==============================] - 36s 364ms/step - loss: 0.5998 - acc: 0.6703 - val_loss: 0.5456 - val_acc: 0.7075\n",
            "Epoch 8/30\n",
            "100/100 [==============================] - 39s 391ms/step - loss: 0.5850 - acc: 0.6884 - val_loss: 0.7780 - val_acc: 0.6697\n",
            "Epoch 9/30\n",
            "100/100 [==============================] - 37s 370ms/step - loss: 0.5822 - acc: 0.6866 - val_loss: 0.5223 - val_acc: 0.6928\n",
            "Epoch 10/30\n",
            "100/100 [==============================] - 37s 367ms/step - loss: 0.5562 - acc: 0.7081 - val_loss: 0.7241 - val_acc: 0.6671\n",
            "Epoch 11/30\n",
            "100/100 [==============================] - 37s 368ms/step - loss: 0.5673 - acc: 0.7000 - val_loss: 0.6653 - val_acc: 0.7024\n",
            "Epoch 12/30\n",
            "100/100 [==============================] - 37s 367ms/step - loss: 0.5503 - acc: 0.7109 - val_loss: 0.4732 - val_acc: 0.7068\n",
            "Epoch 13/30\n",
            "100/100 [==============================] - 37s 372ms/step - loss: 0.5559 - acc: 0.7144 - val_loss: 0.7316 - val_acc: 0.7291\n",
            "Epoch 14/30\n",
            "100/100 [==============================] - 36s 363ms/step - loss: 0.5529 - acc: 0.7091 - val_loss: 0.3820 - val_acc: 0.7048\n",
            "Epoch 15/30\n",
            "100/100 [==============================] - 38s 381ms/step - loss: 0.5434 - acc: 0.7209 - val_loss: 0.6379 - val_acc: 0.6692\n",
            "Epoch 16/30\n",
            "100/100 [==============================] - 37s 367ms/step - loss: 0.5377 - acc: 0.7262 - val_loss: 0.5482 - val_acc: 0.7295\n",
            "Epoch 17/30\n",
            "100/100 [==============================] - 36s 365ms/step - loss: 0.5343 - acc: 0.7262 - val_loss: 0.5244 - val_acc: 0.7342\n",
            "Epoch 18/30\n",
            "100/100 [==============================] - 37s 371ms/step - loss: 0.5240 - acc: 0.7359 - val_loss: 0.4878 - val_acc: 0.7425\n",
            "Epoch 19/30\n",
            "100/100 [==============================] - 37s 368ms/step - loss: 0.5282 - acc: 0.7337 - val_loss: 0.6143 - val_acc: 0.7138\n",
            "Epoch 20/30\n",
            "100/100 [==============================] - 37s 374ms/step - loss: 0.5121 - acc: 0.7434 - val_loss: 0.5736 - val_acc: 0.7100\n",
            "Epoch 21/30\n",
            "100/100 [==============================] - 37s 365ms/step - loss: 0.5093 - acc: 0.7447 - val_loss: 0.5130 - val_acc: 0.7412\n",
            "Epoch 22/30\n",
            "100/100 [==============================] - 36s 365ms/step - loss: 0.5152 - acc: 0.7403 - val_loss: 0.5677 - val_acc: 0.7334\n",
            "Epoch 23/30\n",
            "100/100 [==============================] - 35s 353ms/step - loss: 0.5104 - acc: 0.7481 - val_loss: 0.6041 - val_acc: 0.6922\n",
            "Epoch 24/30\n",
            "100/100 [==============================] - 40s 399ms/step - loss: 0.4979 - acc: 0.7572 - val_loss: 0.6534 - val_acc: 0.7269\n",
            "Epoch 25/30\n",
            "100/100 [==============================] - 36s 365ms/step - loss: 0.4959 - acc: 0.7494 - val_loss: 0.3661 - val_acc: 0.7298\n",
            "Epoch 26/30\n",
            "100/100 [==============================] - 37s 366ms/step - loss: 0.5024 - acc: 0.7466 - val_loss: 0.6098 - val_acc: 0.7568\n",
            "Epoch 27/30\n",
            "100/100 [==============================] - 36s 364ms/step - loss: 0.4933 - acc: 0.7566 - val_loss: 0.5487 - val_acc: 0.7559\n",
            "Epoch 28/30\n",
            "100/100 [==============================] - 38s 377ms/step - loss: 0.4990 - acc: 0.7534 - val_loss: 0.3166 - val_acc: 0.7874\n",
            "Epoch 29/30\n",
            "100/100 [==============================] - 37s 368ms/step - loss: 0.4964 - acc: 0.7578 - val_loss: 0.4653 - val_acc: 0.7514\n",
            "Epoch 30/30\n",
            "100/100 [==============================] - 37s 368ms/step - loss: 0.4825 - acc: 0.7700 - val_loss: 0.5155 - val_acc: 0.7510\n"
          ],
          "name": "stdout"
        }
      ]
    },
    {
      "cell_type": "code",
      "metadata": {
        "id": "ey_yKYDBEL0H",
        "colab_type": "code",
        "colab": {}
      },
      "source": [
        "model.save('cats_and_dogs_small_2.h5')"
      ],
      "execution_count": null,
      "outputs": []
    },
    {
      "cell_type": "code",
      "metadata": {
        "id": "tE4yt_sxEL5p",
        "colab_type": "code",
        "colab": {}
      },
      "source": [
        ""
      ],
      "execution_count": null,
      "outputs": []
    },
    {
      "cell_type": "markdown",
      "metadata": {
        "id": "2JoYDtMJKDm8",
        "colab_type": "text"
      },
      "source": [
        "# Transfer Learning: Using a pretrained convnet"
      ]
    },
    {
      "cell_type": "markdown",
      "metadata": {
        "id": "LjxHl0D8XWoM",
        "colab_type": "text"
      },
      "source": [
        "##FAST FEATURE EXTRACTION WITHOUT DATA AUGMENTATION\n",
        "Running the convolutional base over your dataset, recording its output to a\n",
        "Numpy array on disk, and then using this data as input to a standalone, densely\n",
        "connected classifier\n"
      ]
    },
    {
      "cell_type": "markdown",
      "metadata": {
        "id": "ru3zDvXBXUQX",
        "colab_type": "text"
      },
      "source": [
        "##Instantiating the VGG16 convolutional base"
      ]
    },
    {
      "cell_type": "code",
      "metadata": {
        "id": "yR5R6WIkKFw0",
        "colab_type": "code",
        "colab": {
          "base_uri": "https://localhost:8080/",
          "height": 68
        },
        "outputId": "cf2f8b38-1d54-4c10-bd44-2566c70d0785"
      },
      "source": [
        "from keras.applications import VGG16\n",
        "conv_base = VGG16(weights='imagenet',\n",
        "include_top=False,\n",
        "input_shape=(150, 150, 3))"
      ],
      "execution_count": 3,
      "outputs": [
        {
          "output_type": "stream",
          "text": [
            "Using TensorFlow backend.\n"
          ],
          "name": "stderr"
        },
        {
          "output_type": "stream",
          "text": [
            "Downloading data from https://github.com/fchollet/deep-learning-models/releases/download/v0.1/vgg16_weights_tf_dim_ordering_tf_kernels_notop.h5\n",
            "58892288/58889256 [==============================] - 1s 0us/step\n"
          ],
          "name": "stdout"
        }
      ]
    },
    {
      "cell_type": "markdown",
      "metadata": {
        "id": "UmCMFjO9X1wp",
        "colab_type": "text"
      },
      "source": [
        "##Extracting features using the pretrained convolutional base"
      ]
    },
    {
      "cell_type": "code",
      "metadata": {
        "id": "FYh6dBxKgC6m",
        "colab_type": "code",
        "colab": {
          "base_uri": "https://localhost:8080/",
          "height": 68
        },
        "outputId": "b1cb1241-5c6e-402f-de31-ffac81a7c40b"
      },
      "source": [
        "import os\n",
        "import numpy as np\n",
        "from keras.preprocessing.image import ImageDataGenerator\n",
        "datagen = ImageDataGenerator(rescale=1./255)\n",
        "batch_size = 20\n",
        "def extract_features(directory, sample_count):\n",
        "  features = np.zeros(shape=(sample_count, 4, 4, 512))\n",
        "  labels = np.zeros(shape=(sample_count))\n",
        "  generator = datagen.flow_from_directory(\n",
        "  directory,\n",
        "  target_size=(150, 150),\n",
        "  batch_size=batch_size,\n",
        "  class_mode='binary')\n",
        "  i = 0\n",
        "  for inputs_batch, labels_batch in generator:\n",
        "    features_batch = conv_base.predict(inputs_batch)\n",
        "    features[i * batch_size : (i + 1) * batch_size] = features_batch\n",
        "    labels[i * batch_size : (i + 1) * batch_size] = labels_batch\n",
        "    i += 1\n",
        "    if i * batch_size >= sample_count:\n",
        "      break\n",
        "    return features, labels\n",
        "train_features, train_labels = extract_features(train_dir, 2000)\n",
        "validation_features, validation_labels = extract_features(validation_dir, 1000)\n",
        "test_features, test_labels = extract_features(test_dir, 1000)"
      ],
      "execution_count": 4,
      "outputs": [
        {
          "output_type": "stream",
          "text": [
            "Found 2048 images belonging to 2 classes.\n",
            "Found 1025 images belonging to 2 classes.\n",
            "Found 1039 images belonging to 2 classes.\n"
          ],
          "name": "stdout"
        }
      ]
    },
    {
      "cell_type": "markdown",
      "metadata": {
        "id": "42DJ9DLEX4g_",
        "colab_type": "text"
      },
      "source": [
        "Flattning the data to feeed into densly connected classifier"
      ]
    },
    {
      "cell_type": "code",
      "metadata": {
        "id": "mbehJU8WXBpE",
        "colab_type": "code",
        "colab": {}
      },
      "source": [
        "train_features = np.reshape(train_features, (2000, 4 * 4 * 512))\n",
        "validation_features = np.reshape(validation_features, (1000, 4 * 4 * 512))\n",
        "test_features = np.reshape(test_features, (1000, 4 * 4 * 512))"
      ],
      "execution_count": 5,
      "outputs": []
    },
    {
      "cell_type": "markdown",
      "metadata": {
        "id": "31zXn-PwYGmd",
        "colab_type": "text"
      },
      "source": [
        "##Defining and training the densely connected classifier"
      ]
    },
    {
      "cell_type": "code",
      "metadata": {
        "id": "jZ9Y3lM8XCDq",
        "colab_type": "code",
        "colab": {
          "base_uri": "https://localhost:8080/",
          "height": 714
        },
        "outputId": "e44955aa-074e-4183-a5dc-02f7e650e29d"
      },
      "source": [
        "from keras import models\n",
        "from keras import layers\n",
        "from keras import optimizers\n",
        "model = models.Sequential()\n",
        "model.add(layers.Dense(256, activation='relu', input_dim=4 * 4 * 512))\n",
        "model.add(layers.Dropout(0.5))\n",
        "model.add(layers.Dense(1, activation='sigmoid'))\n",
        "model.compile(optimizer=optimizers.RMSprop(lr=2e-5),\n",
        "loss='binary_crossentropy',\n",
        "metrics=['acc'])\n",
        "history = model.fit(train_features, train_labels,\n",
        "epochs=20,\n",
        "batch_size=20,\n",
        "validation_data=(validation_features, validation_labels))"
      ],
      "execution_count": 6,
      "outputs": [
        {
          "output_type": "stream",
          "text": [
            "Train on 2000 samples, validate on 1000 samples\n",
            "Epoch 1/20\n",
            "2000/2000 [==============================] - 1s 335us/step - loss: 0.6923 - acc: 0.9955 - val_loss: 0.6873 - val_acc: 0.9940\n",
            "Epoch 2/20\n",
            "2000/2000 [==============================] - 0s 229us/step - loss: 0.6849 - acc: 0.9965 - val_loss: 0.6825 - val_acc: 0.9900\n",
            "Epoch 3/20\n",
            "2000/2000 [==============================] - 0s 229us/step - loss: 0.6773 - acc: 0.9980 - val_loss: 0.6770 - val_acc: 0.9890\n",
            "Epoch 4/20\n",
            "2000/2000 [==============================] - 0s 222us/step - loss: 0.6707 - acc: 0.9980 - val_loss: 0.6700 - val_acc: 0.9890\n",
            "Epoch 5/20\n",
            "2000/2000 [==============================] - 0s 225us/step - loss: 0.6626 - acc: 0.9995 - val_loss: 0.6632 - val_acc: 0.9900\n",
            "Epoch 6/20\n",
            "2000/2000 [==============================] - 0s 226us/step - loss: 0.6545 - acc: 0.9990 - val_loss: 0.6566 - val_acc: 0.9890\n",
            "Epoch 7/20\n",
            "2000/2000 [==============================] - 0s 230us/step - loss: 0.6468 - acc: 0.9990 - val_loss: 0.6495 - val_acc: 0.9890\n",
            "Epoch 8/20\n",
            "2000/2000 [==============================] - 0s 225us/step - loss: 0.6393 - acc: 0.9985 - val_loss: 0.6399 - val_acc: 0.9910\n",
            "Epoch 9/20\n",
            "2000/2000 [==============================] - 0s 232us/step - loss: 0.6294 - acc: 1.0000 - val_loss: 0.6339 - val_acc: 0.9890\n",
            "Epoch 10/20\n",
            "2000/2000 [==============================] - 0s 228us/step - loss: 0.6207 - acc: 1.0000 - val_loss: 0.6226 - val_acc: 0.9900\n",
            "Epoch 11/20\n",
            "2000/2000 [==============================] - 0s 230us/step - loss: 0.6116 - acc: 0.9995 - val_loss: 0.6134 - val_acc: 0.9910\n",
            "Epoch 12/20\n",
            "2000/2000 [==============================] - 0s 239us/step - loss: 0.6029 - acc: 1.0000 - val_loss: 0.6041 - val_acc: 0.9900\n",
            "Epoch 13/20\n",
            "2000/2000 [==============================] - 0s 223us/step - loss: 0.5931 - acc: 1.0000 - val_loss: 0.5952 - val_acc: 0.9910\n",
            "Epoch 14/20\n",
            "2000/2000 [==============================] - 0s 228us/step - loss: 0.5827 - acc: 1.0000 - val_loss: 0.5859 - val_acc: 0.9910\n",
            "Epoch 15/20\n",
            "2000/2000 [==============================] - 0s 227us/step - loss: 0.5726 - acc: 1.0000 - val_loss: 0.5762 - val_acc: 0.9910\n",
            "Epoch 16/20\n",
            "2000/2000 [==============================] - 0s 231us/step - loss: 0.5623 - acc: 1.0000 - val_loss: 0.5651 - val_acc: 0.9910\n",
            "Epoch 17/20\n",
            "2000/2000 [==============================] - 0s 225us/step - loss: 0.5520 - acc: 1.0000 - val_loss: 0.5520 - val_acc: 0.9940\n",
            "Epoch 18/20\n",
            "2000/2000 [==============================] - 0s 225us/step - loss: 0.5407 - acc: 1.0000 - val_loss: 0.5433 - val_acc: 0.9910\n",
            "Epoch 19/20\n",
            "2000/2000 [==============================] - 0s 241us/step - loss: 0.5304 - acc: 1.0000 - val_loss: 0.5321 - val_acc: 0.9920\n",
            "Epoch 20/20\n",
            "2000/2000 [==============================] - 1s 256us/step - loss: 0.5194 - acc: 1.0000 - val_loss: 0.5210 - val_acc: 0.9920\n"
          ],
          "name": "stdout"
        }
      ]
    },
    {
      "cell_type": "markdown",
      "metadata": {
        "id": "nmAcGivtYIh6",
        "colab_type": "text"
      },
      "source": [
        "##Plotting the results"
      ]
    },
    {
      "cell_type": "code",
      "metadata": {
        "id": "92hz8fbtXCM5",
        "colab_type": "code",
        "colab": {
          "base_uri": "https://localhost:8080/",
          "height": 545
        },
        "outputId": "2c876659-55f5-4982-b397-4a272d2a9df2"
      },
      "source": [
        "import matplotlib.pyplot as plt\n",
        "acc = history.history['acc']\n",
        "val_acc = history.history['val_acc']\n",
        "loss = history.history['loss']\n",
        "val_loss = history.history['val_loss']\n",
        "epochs = range(1, len(acc) + 1)\n",
        "plt.plot(epochs, acc, 'bo', label='Training acc')\n",
        "plt.plot(epochs, val_acc, 'b', label='Validation acc')\n",
        "plt.title('Training and validation accuracy')\n",
        "plt.legend()\n",
        "plt.figure()\n",
        "plt.plot(epochs, loss, 'bo', label='Training loss')\n",
        "plt.plot(epochs, val_loss, 'b', label='Validation loss')\n",
        "plt.title('Training and validation loss')\n",
        "plt.legend()\n",
        "plt.show()"
      ],
      "execution_count": 7,
      "outputs": [
        {
          "output_type": "display_data",
          "data": {
            "image/png": "[encoded data removed]",
            "text/plain": [
              "<Figure size 432x288 with 1 Axes>"
            ]
          },
          "metadata": {
            "tags": [],
            "needs_background": "light"
          }
        },
        {
          "output_type": "display_data",
          "data": {
            "image/png": "[encoded data removed]",
            "text/plain": [
              "<Figure size 432x288 with 1 Axes>"
            ]
          },
          "metadata": {
            "tags": [],
            "needs_background": "light"
          }
        }
      ]
    },
    {
      "cell_type": "markdown",
      "metadata": {
        "id": "Ku70m2mOYhlp",
        "colab_type": "text"
      },
      "source": [
        "##FEATURE EXTRACTION WITH DATA AUGMENTATION"
      ]
    },
    {
      "cell_type": "markdown",
      "metadata": {
        "id": "MeIclZ2QazcA",
        "colab_type": "text"
      },
      "source": [
        "##Adding a densely connected classifier on top of the convolutional base"
      ]
    },
    {
      "cell_type": "code",
      "metadata": {
        "id": "Y1Kivpw6XCXA",
        "colab_type": "code",
        "colab": {}
      },
      "source": [
        "from keras import models\n",
        "from keras import layers\n",
        "model = models.Sequential()\n",
        "model.add(conv_base)\n",
        "model.add(layers.Flatten())\n",
        "model.add(layers.Dense(256, activation='relu'))\n",
        "model.add(layers.Dense(1, activation='sigmoid'))"
      ],
      "execution_count": 8,
      "outputs": []
    },
    {
      "cell_type": "markdown",
      "metadata": {
        "id": "rs0lpcA8a321",
        "colab_type": "text"
      },
      "source": [
        "\n",
        "Setting conv_base parameters as non-trainable parameters"
      ]
    },
    {
      "cell_type": "code",
      "metadata": {
        "id": "bAUffog9XCfs",
        "colab_type": "code",
        "colab": {}
      },
      "source": [
        "model.layers[0].trainable = False"
      ],
      "execution_count": 9,
      "outputs": []
    },
    {
      "cell_type": "code",
      "metadata": {
        "id": "Vse68FqdXCl7",
        "colab_type": "code",
        "colab": {
          "base_uri": "https://localhost:8080/",
          "height": 731
        },
        "outputId": "7911341e-25f4-4310-f571-136db944f31d"
      },
      "source": [
        "from keras.preprocessing.image import ImageDataGenerator\n",
        "from keras import optimizers\n",
        "train_datagen = ImageDataGenerator(\n",
        "rescale=1./255,\n",
        "rotation_range=40,\n",
        "width_shift_range=0.2,\n",
        "height_shift_range=0.2,\n",
        "shear_range=0.2,\n",
        "zoom_range=0.2,\n",
        "horizontal_flip=True,\n",
        "fill_mode='nearest')\n",
        "\n",
        "test_datagen = ImageDataGenerator(rescale=1./255)\n",
        "train_generator = train_datagen.flow_from_directory(\n",
        "train_dir,\n",
        "target_size=(150, 150),\n",
        "batch_size=20,\n",
        "class_mode='binary')\n",
        "\n",
        "validation_generator = test_datagen.flow_from_directory(\n",
        "validation_dir,\n",
        "target_size=(150, 150),\n",
        "batch_size=20,\n",
        "class_mode='binary')\n",
        "\n",
        "model.compile(loss='binary_crossentropy',\n",
        "optimizer=optimizers.RMSprop(lr=2e-5),\n",
        "metrics=['acc'])\n",
        "\n",
        "history = model.fit_generator(\n",
        "train_generator,\n",
        "steps_per_epoch=100,\n",
        "epochs=20,\n",
        "validation_data=validation_generator,\n",
        "validation_steps=50)"
      ],
      "execution_count": 10,
      "outputs": [
        {
          "output_type": "stream",
          "text": [
            "Found 2048 images belonging to 2 classes.\n",
            "Found 1025 images belonging to 2 classes.\n",
            "Epoch 1/20\n",
            "100/100 [==============================] - 558s 6s/step - loss: 0.5896 - acc: 0.6906 - val_loss: 0.3990 - val_acc: 0.8450\n",
            "Epoch 2/20\n",
            "100/100 [==============================] - 21s 213ms/step - loss: 0.4783 - acc: 0.7907 - val_loss: 0.3837 - val_acc: 0.8619\n",
            "Epoch 3/20\n",
            "100/100 [==============================] - 21s 206ms/step - loss: 0.4281 - acc: 0.8159 - val_loss: 0.2899 - val_acc: 0.8538\n",
            "Epoch 4/20\n",
            "100/100 [==============================] - 21s 210ms/step - loss: 0.3984 - acc: 0.8310 - val_loss: 0.2833 - val_acc: 0.8721\n",
            "Epoch 5/20\n",
            "100/100 [==============================] - 20s 198ms/step - loss: 0.3804 - acc: 0.8415 - val_loss: 0.2389 - val_acc: 0.8853\n",
            "Epoch 6/20\n",
            "100/100 [==============================] - 20s 199ms/step - loss: 0.3694 - acc: 0.8486 - val_loss: 0.2046 - val_acc: 0.8832\n",
            "Epoch 7/20\n",
            "100/100 [==============================] - 20s 197ms/step - loss: 0.3457 - acc: 0.8602 - val_loss: 0.2194 - val_acc: 0.8883\n",
            "Epoch 8/20\n",
            "100/100 [==============================] - 20s 195ms/step - loss: 0.3682 - acc: 0.8380 - val_loss: 0.2628 - val_acc: 0.8883\n",
            "Epoch 9/20\n",
            "100/100 [==============================] - 19s 194ms/step - loss: 0.3393 - acc: 0.8516 - val_loss: 0.1095 - val_acc: 0.9036\n",
            "Epoch 10/20\n",
            "100/100 [==============================] - 20s 198ms/step - loss: 0.3472 - acc: 0.8445 - val_loss: 0.1752 - val_acc: 0.8802\n",
            "Epoch 11/20\n",
            "100/100 [==============================] - 19s 193ms/step - loss: 0.3234 - acc: 0.8662 - val_loss: 0.2405 - val_acc: 0.8893\n",
            "Epoch 12/20\n",
            "100/100 [==============================] - 19s 191ms/step - loss: 0.3274 - acc: 0.8556 - val_loss: 0.1051 - val_acc: 0.9015\n",
            "Epoch 13/20\n",
            "100/100 [==============================] - 19s 190ms/step - loss: 0.3029 - acc: 0.8694 - val_loss: 0.2358 - val_acc: 0.8924\n",
            "Epoch 14/20\n",
            "100/100 [==============================] - 19s 194ms/step - loss: 0.3202 - acc: 0.8640 - val_loss: 0.2198 - val_acc: 0.8954\n",
            "Epoch 15/20\n",
            "100/100 [==============================] - 19s 191ms/step - loss: 0.3190 - acc: 0.8592 - val_loss: 0.2070 - val_acc: 0.8883\n",
            "Epoch 16/20\n",
            "100/100 [==============================] - 19s 192ms/step - loss: 0.3216 - acc: 0.8556 - val_loss: 0.1598 - val_acc: 0.9056\n",
            "Epoch 17/20\n",
            "100/100 [==============================] - 19s 191ms/step - loss: 0.3031 - acc: 0.8652 - val_loss: 0.1867 - val_acc: 0.8964\n",
            "Epoch 18/20\n",
            "100/100 [==============================] - 19s 192ms/step - loss: 0.3010 - acc: 0.8652 - val_loss: 0.1461 - val_acc: 0.9076\n",
            "Epoch 19/20\n",
            "100/100 [==============================] - 19s 191ms/step - loss: 0.2975 - acc: 0.8813 - val_loss: 0.1863 - val_acc: 0.8873\n",
            "Epoch 20/20\n",
            "100/100 [==============================] - 20s 203ms/step - loss: 0.3026 - acc: 0.8647 - val_loss: 0.1358 - val_acc: 0.9137\n"
          ],
          "name": "stdout"
        }
      ]
    },
    {
      "cell_type": "markdown",
      "metadata": {
        "id": "8cCCYIZXPN-g",
        "colab_type": "text"
      },
      "source": [
        "## Fine tunning"
      ]
    },
    {
      "cell_type": "markdown",
      "metadata": {
        "id": "JNqTE9jpPWf_",
        "colab_type": "text"
      },
      "source": [
        "## Freezing all layers up to a specific one"
      ]
    },
    {
      "cell_type": "code",
      "metadata": {
        "id": "lwYYKpdTXCuu",
        "colab_type": "code",
        "colab": {}
      },
      "source": [
        "conv_base.trainable = True\n",
        "set_trainable = False\n",
        "for layer in conv_base.layers:\n",
        "  if layer.name == 'block5_conv1':\n",
        "    set_trainable = True\n",
        "  if set_trainable:\n",
        "    layer.trainable = True\n",
        "  else:\n",
        "    layer.trainable = False"
      ],
      "execution_count": 11,
      "outputs": []
    },
    {
      "cell_type": "markdown",
      "metadata": {
        "id": "3_VoNeCTPel8",
        "colab_type": "text"
      },
      "source": [
        "## Fine tunning a model"
      ]
    },
    {
      "cell_type": "code",
      "metadata": {
        "id": "iup8TAU0XCya",
        "colab_type": "code",
        "colab": {
          "base_uri": "https://localhost:8080/",
          "height": 697
        },
        "outputId": "8df20be4-bb24-41d8-c960-cbdec9d767b1"
      },
      "source": [
        "model.compile(loss='binary_crossentropy',\n",
        "optimizer=optimizers.RMSprop(lr=1e-5),\n",
        "metrics=['acc'])\n",
        "\n",
        "history = model.fit_generator(\n",
        "train_generator,\n",
        "steps_per_epoch=100,\n",
        "epochs=20,\n",
        "validation_data=validation_generator,\n",
        "validation_steps=50)"
      ],
      "execution_count": 13,
      "outputs": [
        {
          "output_type": "stream",
          "text": [
            "Epoch 1/20\n",
            "100/100 [==============================] - 21s 207ms/step - loss: 0.1995 - acc: 0.9170 - val_loss: 0.0305 - val_acc: 0.9180\n",
            "Epoch 2/20\n",
            "100/100 [==============================] - 21s 206ms/step - loss: 0.1843 - acc: 0.9266 - val_loss: 0.1481 - val_acc: 0.9228\n",
            "Epoch 3/20\n",
            "100/100 [==============================] - 21s 208ms/step - loss: 0.1616 - acc: 0.9286 - val_loss: 0.1563 - val_acc: 0.9208\n",
            "Epoch 4/20\n",
            "100/100 [==============================] - 21s 208ms/step - loss: 0.1771 - acc: 0.9256 - val_loss: 0.1600 - val_acc: 0.9340\n",
            "Epoch 5/20\n",
            "100/100 [==============================] - 21s 209ms/step - loss: 0.1682 - acc: 0.9311 - val_loss: 0.1193 - val_acc: 0.9147\n",
            "Epoch 6/20\n",
            "100/100 [==============================] - 21s 210ms/step - loss: 0.1416 - acc: 0.9425 - val_loss: 0.2550 - val_acc: 0.9310\n",
            "Epoch 7/20\n",
            "100/100 [==============================] - 20s 204ms/step - loss: 0.1476 - acc: 0.9433 - val_loss: 0.0282 - val_acc: 0.9198\n",
            "Epoch 8/20\n",
            "100/100 [==============================] - 21s 207ms/step - loss: 0.1519 - acc: 0.9361 - val_loss: 0.1710 - val_acc: 0.9259\n",
            "Epoch 9/20\n",
            "100/100 [==============================] - 20s 200ms/step - loss: 0.1206 - acc: 0.9477 - val_loss: 0.0816 - val_acc: 0.9259\n",
            "Epoch 10/20\n",
            "100/100 [==============================] - 20s 200ms/step - loss: 0.1138 - acc: 0.9542 - val_loss: 0.0575 - val_acc: 0.9340\n",
            "Epoch 11/20\n",
            "100/100 [==============================] - 20s 200ms/step - loss: 0.1132 - acc: 0.9547 - val_loss: 0.0954 - val_acc: 0.9340\n",
            "Epoch 12/20\n",
            "100/100 [==============================] - 20s 197ms/step - loss: 0.1138 - acc: 0.9577 - val_loss: 0.2640 - val_acc: 0.9279\n",
            "Epoch 13/20\n",
            "100/100 [==============================] - 20s 201ms/step - loss: 0.1112 - acc: 0.9585 - val_loss: 0.6528 - val_acc: 0.9320\n",
            "Epoch 14/20\n",
            "100/100 [==============================] - 20s 196ms/step - loss: 0.0928 - acc: 0.9648 - val_loss: 0.1683 - val_acc: 0.9391\n",
            "Epoch 15/20\n",
            "100/100 [==============================] - 20s 201ms/step - loss: 0.0966 - acc: 0.9626 - val_loss: 0.6707 - val_acc: 0.9350\n",
            "Epoch 16/20\n",
            "100/100 [==============================] - 20s 202ms/step - loss: 0.1022 - acc: 0.9613 - val_loss: 0.0351 - val_acc: 0.9289\n",
            "Epoch 17/20\n",
            "100/100 [==============================] - 20s 204ms/step - loss: 0.1052 - acc: 0.9557 - val_loss: 0.0328 - val_acc: 0.9431\n",
            "Epoch 18/20\n",
            "100/100 [==============================] - 20s 201ms/step - loss: 0.0910 - acc: 0.9695 - val_loss: 0.0015 - val_acc: 0.9381\n",
            "Epoch 19/20\n",
            "100/100 [==============================] - 20s 202ms/step - loss: 0.0813 - acc: 0.9661 - val_loss: 0.0537 - val_acc: 0.9259\n",
            "Epoch 20/20\n",
            "100/100 [==============================] - 20s 199ms/step - loss: 0.0804 - acc: 0.9705 - val_loss: 0.6249 - val_acc: 0.9472\n"
          ],
          "name": "stdout"
        }
      ]
    },
    {
      "cell_type": "code",
      "metadata": {
        "id": "H9XVHGh2vHJG",
        "colab_type": "code",
        "colab": {
          "base_uri": "https://localhost:8080/",
          "height": 545
        },
        "outputId": "fbc35439-e6af-4707-fcdc-a3611cca3c44"
      },
      "source": [
        "import matplotlib.pyplot as plt\n",
        "acc = history.history['acc']\n",
        "val_acc = history.history['val_acc']\n",
        "loss = history.history['loss']\n",
        "val_loss = history.history['val_loss']\n",
        "epochs = range(1, len(acc) + 1)\n",
        "plt.plot(epochs, acc, 'bo', label='Training acc')\n",
        "plt.plot(epochs, val_acc, 'b', label='Validation acc')\n",
        "plt.title('Training and validation accuracy')\n",
        "plt.legend()\n",
        "plt.figure()\n",
        "plt.plot(epochs, loss, 'bo', label='Training loss')\n",
        "plt.plot(epochs, val_loss, 'b', label='Validation loss')\n",
        "plt.title('Training and validation loss')\n",
        "plt.legend()\n",
        "plt.show()"
      ],
      "execution_count": 14,
      "outputs": [
        {
          "output_type": "display_data",
          "data": {
            "image/png": "[encoded data removed]",
            "text/plain": [
              "<Figure size 432x288 with 1 Axes>"
            ]
          },
          "metadata": {
            "tags": [],
            "needs_background": "light"
          }
        },
        {
          "output_type": "display_data",
          "data": {
            "image/png": "[encoded data removed]",
            "text/plain": [
              "<Figure size 432x288 with 1 Axes>"
            ]
          },
          "metadata": {
            "tags": [],
            "needs_background": "light"
          }
        }
      ]
    },
    {
      "cell_type": "code",
      "metadata": {
        "id": "hwv4qvmNXCrN",
        "colab_type": "code",
        "colab": {
          "base_uri": "https://localhost:8080/",
          "height": 545
        },
        "outputId": "90b627a3-1afb-42bb-bb8b-1dde67e90892"
      },
      "source": [
        "def smooth_curve(points, factor=0.8):\n",
        "  smoothed_points = []\n",
        "  for point in points:\n",
        "    if smoothed_points:\n",
        "      previous = smoothed_points[-1]\n",
        "      smoothed_points.append(previous * factor + point * (1 - factor))\n",
        "    else:\n",
        "      smoothed_points.append(point)\n",
        "  return smoothed_points\n",
        "plt.plot(epochs,\n",
        "smooth_curve(val_acc), 'bo', label='Smoothed training acc')\n",
        "plt.plot(epochs,\n",
        "smooth_curve(val_acc), 'b', label='Smoothed validation acc')\n",
        "plt.title('Training and validation accuracy')\n",
        "plt.legend()\n",
        "plt.figure()\n",
        "plt.plot(epochs,\n",
        "smooth_curve(loss), 'bo', label='Smoothed training loss')\n",
        "plt.plot(epochs,\n",
        "smooth_curve(val_loss), 'b', label='Smoothed validation loss')\n",
        "plt.title('Training and validation loss')\n",
        "plt.legend()\n",
        "plt.show()"
      ],
      "execution_count": 15,
      "outputs": [
        {
          "output_type": "display_data",
          "data": {
            "image/png": "[encoded data removed]",
            "text/plain": [
              "<Figure size 432x288 with 1 Axes>"
            ]
          },
          "metadata": {
            "tags": [],
            "needs_background": "light"
          }
        },
        {
          "output_type": "display_data",
          "data": {
            "image/png": "[encoded data removed]",
            "text/plain": [
              "<Figure size 432x288 with 1 Axes>"
            ]
          },
          "metadata": {
            "tags": [],
            "needs_background": "light"
          }
        }
      ]
    },
    {
      "cell_type": "code",
      "metadata": {
        "id": "3PE2VjOLXC1-",
        "colab_type": "code",
        "colab": {
          "base_uri": "https://localhost:8080/",
          "height": 51
        },
        "outputId": "7bfd3ff4-f98e-4031-899d-624d4f3afa25"
      },
      "source": [
        "test_generator = test_datagen.flow_from_directory(\n",
        "test_dir,\n",
        "target_size=(150, 150),\n",
        "batch_size=20,\n",
        "class_mode='binary')\n",
        "test_loss, test_acc = model.evaluate_generator(test_generator, steps=50)\n",
        "print('test acc:', test_acc)"
      ],
      "execution_count": 16,
      "outputs": [
        {
          "output_type": "stream",
          "text": [
            "Found 1039 images belonging to 2 classes.\n",
            "test acc: 0.9380000233650208\n"
          ],
          "name": "stdout"
        }
      ]
    },
    {
      "cell_type": "code",
      "metadata": {
        "id": "4dxK2x2eXC5E",
        "colab_type": "code",
        "colab": {}
      },
      "source": [
        ""
      ],
      "execution_count": null,
      "outputs": []
    }
  ]
}